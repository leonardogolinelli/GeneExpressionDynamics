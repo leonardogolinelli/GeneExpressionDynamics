{
 "cells": [
  {
   "cell_type": "code",
   "execution_count": 11,
   "metadata": {},
   "outputs": [],
   "source": [
    "import scanpy as sc\n",
    "import scvelo as scv\n",
    "import numpy as np\n",
    "from sklearn.linear_model import LinearRegression"
   ]
  },
  {
   "cell_type": "code",
   "execution_count": 12,
   "metadata": {},
   "outputs": [],
   "source": [
    "scv.settings.verbosity = 3  # show errors(0), warnings(1), info(2), hints(3)\n",
    "scv.settings.presenter_view = True  # set max width size for presenter view\n",
    "scv.set_figure_params('scvelo')  # for beautified visualization"
   ]
  },
  {
   "cell_type": "code",
   "execution_count": 13,
   "metadata": {},
   "outputs": [],
   "source": [
    "adata = scv.datasets.pancreas()"
   ]
  },
  {
   "cell_type": "code",
   "execution_count": 14,
   "metadata": {},
   "outputs": [
    {
     "data": {
      "text/plain": [
       "AnnData object with n_obs × n_vars = 3696 × 27998\n",
       "    obs: 'clusters_coarse', 'clusters', 'S_score', 'G2M_score'\n",
       "    var: 'highly_variable_genes'\n",
       "    uns: 'clusters_coarse_colors', 'clusters_colors', 'day_colors', 'neighbors', 'pca'\n",
       "    obsm: 'X_pca', 'X_umap'\n",
       "    layers: 'spliced', 'unspliced'\n",
       "    obsp: 'distances', 'connectivities'"
      ]
     },
     "execution_count": 14,
     "metadata": {},
     "output_type": "execute_result"
    }
   ],
   "source": [
    "adata"
   ]
  },
  {
   "cell_type": "code",
   "execution_count": 15,
   "metadata": {},
   "outputs": [
    {
     "name": "stdout",
     "output_type": "stream",
     "text": [
      "Filtered out 20801 genes that are detected 20 counts (shared).\n",
      "Normalized count data: X, spliced, unspliced.\n",
      "Extracted 2000 highly variable genes.\n",
      "Logarithmized X.\n",
      "computing neighbors\n"
     ]
    },
    {
     "name": "stderr",
     "output_type": "stream",
     "text": [
      "/home/icb/leonardo.golinelli/miniconda3/envs/gpvelo/lib/python3.11/site-packages/scvelo/preprocessing/utils.py:705: DeprecationWarning: `log1p` is deprecated since scVelo v0.3.0 and will be removed in a future version. Please use `log1p` from `scanpy.pp` instead.\n",
      "  log1p(adata)\n"
     ]
    },
    {
     "name": "stdout",
     "output_type": "stream",
     "text": [
      "    finished (0:00:00) --> added \n",
      "    'distances' and 'connectivities', weighted adjacency matrices (adata.obsp)\n",
      "computing moments based on connectivities\n",
      "    finished (0:00:00) --> added \n",
      "    'Ms' and 'Mu', moments of un/spliced abundances (adata.layers)\n"
     ]
    }
   ],
   "source": [
    "scv.pp.filter_and_normalize(adata, min_shared_counts=20, n_top_genes=2000)\n",
    "scv.pp.moments(adata, n_pcs=30, n_neighbors=30)"
   ]
  },
  {
   "cell_type": "code",
   "execution_count": 41,
   "metadata": {},
   "outputs": [],
   "source": [
    "u = adata.layers['Mu']\n",
    "s = adata.layers['Ms']"
   ]
  },
  {
   "cell_type": "code",
   "execution_count": 49,
   "metadata": {},
   "outputs": [],
   "source": [
    "dic = {}\n",
    "velocities = np.empty((3696,2000))\n",
    "gamma_list = []\n",
    "for i in range(2000):\n",
    "  # Assume `data` is a 2-dimensional numpy array of shape (n, 2).\n",
    "  x = u[:, i]\n",
    "  y = s[:, i]\n",
    "\n",
    "  # Compute the centroid.\n",
    "  centroid_x = np.mean(x)\n",
    "  centroid_y = np.mean(y)\n",
    "\n",
    "  # Compute the Euclidean distance from each point to the centroid.\n",
    "  distances = np.sqrt((x - centroid_x)**2 + (y - centroid_y)**2)\n",
    "  \n",
    "  # Compute the 1st and 99th percentiles of the distances.\n",
    "  q1 = np.percentile(distances, 1)\n",
    "  q99 = np.percentile(distances, 99)\n",
    "\n",
    "  # Now, you can select the data at these extreme quantiles.\n",
    "  q1_u = x[distances <= q1]\n",
    "  q99_u = x[distances >= q99]\n",
    "  q1_s = y[distances <= q1]\n",
    "  q99_s = y[distances >= q99]\n",
    "\n",
    "  #concatenate extreme percentiles for the linear fitting\n",
    "  extr_q_u = np.concatenate((q1_u, q99_u))\n",
    "  extr_q_s = np.concatenate((q1_s, q99_s))\n",
    "\n",
    "  #fit u = gamma * s\n",
    "  model = LinearRegression(fit_intercept=False)\n",
    "  model.fit(extr_q_s.reshape(-1, 1), extr_q_u)  # need to reshape s to be a 2D array\n",
    "\n",
    "  gamma = model.coef_[0]\n",
    "  gamma_list.append(gamma)\n",
    "\n",
    "  v = x - gamma * y\n",
    "  velocities[:,i] = v\n"
   ]
  }
 ],
 "metadata": {
  "kernelspec": {
   "display_name": "Python 3 (ipykernel)",
   "language": "python",
   "name": "python3"
  },
  "language_info": {
   "codemirror_mode": {
    "name": "ipython",
    "version": 3
   },
   "file_extension": ".py",
   "mimetype": "text/x-python",
   "name": "python",
   "nbconvert_exporter": "python",
   "pygments_lexer": "ipython3",
   "version": "3.11.5"
  },
  "orig_nbformat": 4
 },
 "nbformat": 4,
 "nbformat_minor": 2
}
