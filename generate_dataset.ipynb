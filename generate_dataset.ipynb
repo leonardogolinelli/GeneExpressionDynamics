{
  "nbformat": 4,
  "nbformat_minor": 0,
  "metadata": {
    "colab": {
      "provenance": [],
      "authorship_tag": "ABX9TyMwjDDwRVmjnyU6Ryz7f6JA",
      "include_colab_link": true
    },
    "kernelspec": {
      "name": "python3",
      "display_name": "Python 3"
    },
    "language_info": {
      "name": "python"
    }
  },
  "cells": [
    {
      "cell_type": "markdown",
      "metadata": {
        "id": "view-in-github",
        "colab_type": "text"
      },
      "source": [
        "<a href=\"https://colab.research.google.com/github/leonardogolinelli/rna_velo_tests/blob/main/generate_dataset.ipynb\" target=\"_parent\"><img src=\"https://colab.research.google.com/assets/colab-badge.svg\" alt=\"Open In Colab\"/></a>"
      ]
    },
    {
      "cell_type": "code",
      "source": [
        "import numpy as np\n",
        "import pandas as pd\n",
        "import matplotlib.pyplot as plt"
      ],
      "metadata": {
        "id": "HxFozoNMJH6l"
      },
      "execution_count": null,
      "outputs": []
    },
    {
      "cell_type": "code",
      "execution_count": null,
      "metadata": {
        "id": "9KjT0Al8GUg_",
        "colab": {
          "base_uri": "https://localhost:8080/"
        },
        "outputId": "645cc36a-a2a2-4a1c-943e-8eee9688d8b0"
      },
      "outputs": [
        {
          "output_type": "stream",
          "name": "stdout",
          "text": [
            "Mounted at /content/drive\n"
          ]
        }
      ],
      "source": [
        "from google.colab import drive\n",
        "drive.mount('/content/drive')"
      ]
    },
    {
      "cell_type": "code",
      "source": [
        "import sys\n",
        "sys.path.append('/content/drive/My Drive/')\n",
        "import data_simulator as sim_data"
      ],
      "metadata": {
        "id": "3jl4EEe4I_eD"
      },
      "execution_count": null,
      "outputs": []
    },
    {
      "cell_type": "code",
      "source": [
        "def init_parameters():\n",
        "  t_final = 10\n",
        "  alfa = np.random.uniform(low=1, high=10, size=2000)\n",
        "  beta = np.random.uniform(low=0.5, high=2, size=2000)\n",
        "  gamma = np.random.uniform(low=0.1, high=0.99, size=2000)\n",
        "  #relative_t_switch = np.random.uniform(low=0.01, high=0.99, size=2000)\n",
        "  relative_t_switch = np.random.beta(5,5, 2000)\n",
        "  n_simulated_data = 1500\n",
        "\n",
        "  return t_final, alfa, beta, gamma, relative_t_switch, n_simulated_data"
      ],
      "metadata": {
        "id": "_z3irObj6myN"
      },
      "execution_count": null,
      "outputs": []
    },
    {
      "cell_type": "code",
      "source": [
        "def simulate_data(t_final, alfa, beta, gamma, relative_t_switch, n_simulated_data):\n",
        "  t, t_switch, exp_u, exp_s, u_stoch, s_stoch = sim_data.module(u0 = 0, s0 = 0, alfa = alfa, beta = beta, gamma = gamma, t_final = t_final,\n",
        "                                                                n_simulated_data = n_simulated_data, relative_t_switch = relative_t_switch,\n",
        "                                                                periodic_alfa = False)\n",
        "\n",
        "  return t, t_switch, exp_u, exp_s, u_stoch, s_stoch"
      ],
      "metadata": {
        "id": "bgfNret87Kfl"
      },
      "execution_count": null,
      "outputs": []
    },
    {
      "cell_type": "code",
      "source": [
        "def format_data(unspliced_raw, spliced_raw, dic,ind,t, t_switch, exp_u, exp_s, u_stoch, s_stoch, alfa, beta, gamma):\n",
        "  dic[str(ind)] = pd.DataFrame()\n",
        "  dic[str(ind)]['time'] = t\n",
        "  dic[str(ind)]['switch_time'] = t_switch\n",
        "  dic[str(ind)]['exp_u'] = exp_u\n",
        "  dic[str(ind)]['exp_s'] = exp_s\n",
        "  dic[str(ind)]['u_stoch'] = u_stoch\n",
        "  dic[str(ind)]['s_stoch'] = s_stoch\n",
        "  dic[str(ind)]['alfa'] = alfa\n",
        "  dic[str(ind)]['beta'] = beta\n",
        "  dic[str(ind)]['gamma'] = gamma\n",
        "\n",
        "\n",
        "  unspliced_raw[:,ind] = u_stoch\n",
        "  spliced_raw[:,ind] = s_stoch\n",
        "\n",
        "  return dic, unspliced_raw, spliced_raw"
      ],
      "metadata": {
        "id": "RaUKxE4_8h8G"
      },
      "execution_count": null,
      "outputs": []
    },
    {
      "cell_type": "code",
      "source": [
        "def plot_simulation(dic):\n",
        "  plt.figure(figsize=(12,6))\n",
        "  nrows = 4\n",
        "  ncols = 4\n",
        "  n = nrows*ncols\n",
        "  plt.subplots(nrows,ncols, figsize=(18,9))\n",
        "  sub_genes = np.random.randint(0,2000,n)\n",
        "\n",
        "  j=1\n",
        "  for i in sub_genes:\n",
        "    if j <= n:\n",
        "      x = dic[str(i)]['time']\n",
        "      exp_u = dic[str(i)]['exp_u']\n",
        "      exp_s = dic[str(i)]['exp_s']\n",
        "\n",
        "      plt.subplot(nrows,ncols,j)\n",
        "      plt.plot(x, exp_u)\n",
        "      plt.plot(x, exp_s)\n",
        "\n",
        "    j +=1\n",
        "\n",
        "\n",
        "plt.show()"
      ],
      "metadata": {
        "id": "6e694bOrVLaH"
      },
      "execution_count": null,
      "outputs": []
    },
    {
      "cell_type": "code",
      "source": [
        "def plot_phase_plane(dic):\n",
        "  plt.figure(figsize=(12,6))\n",
        "  nrows = 4\n",
        "  ncols = 4\n",
        "  n = nrows*ncols\n",
        "  plt.subplots(nrows,ncols, figsize=(18,9))\n",
        "  sub_genes = np.random.randint(0,2000,n)\n",
        "\n",
        "  j=1\n",
        "  for i in sub_genes:\n",
        "    if j <= n:\n",
        "      x = dic[str(i)]['time']\n",
        "      exp_u = dic[str(i)]['exp_u']\n",
        "      exp_s = dic[str(i)]['exp_s']\n",
        "\n",
        "      plt.subplot(nrows,ncols,j)\n",
        "      plt.plot(exp_u, exp_s)\n",
        "\n",
        "    j +=1\n",
        "\n",
        "\n",
        "  plt.show()"
      ],
      "metadata": {
        "id": "YGMFVcrB93CL"
      },
      "execution_count": null,
      "outputs": []
    },
    {
      "cell_type": "code",
      "source": [
        "def generate_data(plot=False):\n",
        "  t_final, alfa_seq, beta_seq, gamma_seq, relative_t_switch_seq, n_simulated_data = init_parameters()\n",
        "  dic = {}\n",
        "  unspliced_raw = np.zeros((3000,2000))\n",
        "  spliced_raw = np.zeros((3000,2000))\n",
        "  for i in range(2000):\n",
        "    alfa = alfa_seq[i]\n",
        "    beta = beta_seq[i]\n",
        "    gamma = gamma_seq[i]\n",
        "    relative_t_switch = relative_t_switch_seq[i]\n",
        "    t, t_switch, exp_u, exp_s, u_stoch, s_stoch = simulate_data(t_final, alfa, beta, gamma, relative_t_switch, n_simulated_data)\n",
        "    dic, unspliced_raw, spliced_raw  = format_data(unspliced_raw, spliced_raw, dic, i, t, t_switch, exp_u, exp_s, u_stoch, s_stoch, alfa, beta, gamma)\n",
        "\n",
        "  if plot:\n",
        "    plot_simulation(dic)\n",
        "    plot_phase_plane(dic)\n",
        "\n",
        "  return dic, unspliced_raw, spliced_raw"
      ],
      "metadata": {
        "id": "25bNYAjq_fsZ"
      },
      "execution_count": null,
      "outputs": []
    },
    {
      "cell_type": "code",
      "source": [
        "#dic, unspliced_raw, spliced_raw = generate_data()"
      ],
      "metadata": {
        "id": "GPaMInR1AVfZ"
      },
      "execution_count": null,
      "outputs": []
    },
    {
      "cell_type": "code",
      "source": [],
      "metadata": {
        "id": "GLvZ4t7w1aTq"
      },
      "execution_count": null,
      "outputs": []
    }
  ]
}